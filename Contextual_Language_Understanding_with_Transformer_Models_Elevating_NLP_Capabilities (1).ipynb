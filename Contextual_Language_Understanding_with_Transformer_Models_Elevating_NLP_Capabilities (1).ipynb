{
  "cells": [
    {
      "cell_type": "code",
      "execution_count": 1,
      "metadata": {
        "colab": {
          "base_uri": "https://localhost:8080/"
        },
        "id": "rLOx-CwbEf9c",
        "outputId": "1f516ddb-8efa-421e-d632-349206e27c83"
      },
      "outputs": [
        {
          "name": "stdout",
          "output_type": "stream",
          "text": [
            "Requirement already satisfied: python-dotenv in c:\\users\\vishw\\anaconda3\\lib\\site-packages (0.21.0)\n"
          ]
        }
      ],
      "source": [
        "!pip install python-dotenv"
      ]
    },
    {
      "cell_type": "code",
      "execution_count": 2,
      "metadata": {
        "colab": {
          "base_uri": "https://localhost:8080/"
        },
        "id": "ioZMIV7XEeWE",
        "outputId": "f4a82c97-7f60-4ec9-8201-0c20be77059f"
      },
      "outputs": [
        {
          "name": "stdout",
          "output_type": "stream",
          "text": [
            "Requirement already satisfied: transformers in c:\\users\\vishw\\anaconda3\\lib\\site-packages (4.49.0)\n",
            "Requirement already satisfied: torch in c:\\users\\vishw\\anaconda3\\lib\\site-packages (2.6.0)\n",
            "Requirement already satisfied: openai in c:\\users\\vishw\\anaconda3\\lib\\site-packages (1.63.2)\n",
            "Requirement already satisfied: filelock in c:\\users\\vishw\\anaconda3\\lib\\site-packages (from transformers) (3.13.1)\n",
            "Requirement already satisfied: huggingface-hub<1.0,>=0.26.0 in c:\\users\\vishw\\anaconda3\\lib\\site-packages (from transformers) (0.29.0)\n",
            "Requirement already satisfied: numpy>=1.17 in c:\\users\\vishw\\anaconda3\\lib\\site-packages (from transformers) (1.26.4)\n",
            "Requirement already satisfied: packaging>=20.0 in c:\\users\\vishw\\anaconda3\\lib\\site-packages (from transformers) (24.1)\n",
            "Requirement already satisfied: pyyaml>=5.1 in c:\\users\\vishw\\anaconda3\\lib\\site-packages (from transformers) (6.0.1)\n",
            "Requirement already satisfied: regex!=2019.12.17 in c:\\users\\vishw\\anaconda3\\lib\\site-packages (from transformers) (2024.9.11)\n",
            "Requirement already satisfied: requests in c:\\users\\vishw\\anaconda3\\lib\\site-packages (from transformers) (2.32.3)\n",
            "Requirement already satisfied: tokenizers<0.22,>=0.21 in c:\\users\\vishw\\anaconda3\\lib\\site-packages (from transformers) (0.21.0)\n",
            "Requirement already satisfied: safetensors>=0.4.1 in c:\\users\\vishw\\anaconda3\\lib\\site-packages (from transformers) (0.5.2)\n",
            "Requirement already satisfied: tqdm>=4.27 in c:\\users\\vishw\\anaconda3\\lib\\site-packages (from transformers) (4.66.5)\n",
            "Requirement already satisfied: typing-extensions>=4.10.0 in c:\\users\\vishw\\anaconda3\\lib\\site-packages (from torch) (4.11.0)\n",
            "Requirement already satisfied: networkx in c:\\users\\vishw\\anaconda3\\lib\\site-packages (from torch) (3.3)\n",
            "Requirement already satisfied: jinja2 in c:\\users\\vishw\\anaconda3\\lib\\site-packages (from torch) (3.1.4)\n",
            "Requirement already satisfied: fsspec in c:\\users\\vishw\\anaconda3\\lib\\site-packages (from torch) (2024.6.1)\n",
            "Requirement already satisfied: setuptools in c:\\users\\vishw\\anaconda3\\lib\\site-packages (from torch) (75.1.0)\n",
            "Requirement already satisfied: sympy==1.13.1 in c:\\users\\vishw\\anaconda3\\lib\\site-packages (from torch) (1.13.1)\n",
            "Requirement already satisfied: mpmath<1.4,>=1.1.0 in c:\\users\\vishw\\anaconda3\\lib\\site-packages (from sympy==1.13.1->torch) (1.3.0)\n",
            "Requirement already satisfied: anyio<5,>=3.5.0 in c:\\users\\vishw\\anaconda3\\lib\\site-packages (from openai) (4.2.0)\n",
            "Requirement already satisfied: distro<2,>=1.7.0 in c:\\users\\vishw\\anaconda3\\lib\\site-packages (from openai) (1.9.0)\n",
            "Requirement already satisfied: httpx<1,>=0.23.0 in c:\\users\\vishw\\anaconda3\\lib\\site-packages (from openai) (0.27.0)\n",
            "Requirement already satisfied: jiter<1,>=0.4.0 in c:\\users\\vishw\\anaconda3\\lib\\site-packages (from openai) (0.8.2)\n",
            "Requirement already satisfied: pydantic<3,>=1.9.0 in c:\\users\\vishw\\anaconda3\\lib\\site-packages (from openai) (2.8.2)\n",
            "Requirement already satisfied: sniffio in c:\\users\\vishw\\anaconda3\\lib\\site-packages (from openai) (1.3.0)\n",
            "Requirement already satisfied: idna>=2.8 in c:\\users\\vishw\\anaconda3\\lib\\site-packages (from anyio<5,>=3.5.0->openai) (3.7)\n",
            "Requirement already satisfied: certifi in c:\\users\\vishw\\anaconda3\\lib\\site-packages (from httpx<1,>=0.23.0->openai) (2025.1.31)\n",
            "Requirement already satisfied: httpcore==1.* in c:\\users\\vishw\\anaconda3\\lib\\site-packages (from httpx<1,>=0.23.0->openai) (1.0.2)\n",
            "Requirement already satisfied: h11<0.15,>=0.13 in c:\\users\\vishw\\anaconda3\\lib\\site-packages (from httpcore==1.*->httpx<1,>=0.23.0->openai) (0.14.0)\n",
            "Requirement already satisfied: annotated-types>=0.4.0 in c:\\users\\vishw\\anaconda3\\lib\\site-packages (from pydantic<3,>=1.9.0->openai) (0.6.0)\n",
            "Requirement already satisfied: pydantic-core==2.20.1 in c:\\users\\vishw\\anaconda3\\lib\\site-packages (from pydantic<3,>=1.9.0->openai) (2.20.1)\n",
            "Requirement already satisfied: colorama in c:\\users\\vishw\\anaconda3\\lib\\site-packages (from tqdm>=4.27->transformers) (0.4.6)\n",
            "Requirement already satisfied: MarkupSafe>=2.0 in c:\\users\\vishw\\anaconda3\\lib\\site-packages (from jinja2->torch) (2.1.3)\n",
            "Requirement already satisfied: charset-normalizer<4,>=2 in c:\\users\\vishw\\anaconda3\\lib\\site-packages (from requests->transformers) (3.3.2)\n",
            "Requirement already satisfied: urllib3<3,>=1.21.1 in c:\\users\\vishw\\anaconda3\\lib\\site-packages (from requests->transformers) (2.2.3)\n"
          ]
        }
      ],
      "source": [
        "!pip install transformers torch openai"
      ]
    },
    {
      "cell_type": "code",
      "execution_count": null,
      "metadata": {
        "colab": {
          "base_uri": "https://localhost:8080/"
        },
        "id": "ZHjm_og_EcSs",
        "outputId": "e6dc4bc8-79db-4756-9773-44bab4513dee"
      },
      "outputs": [
        {
          "name": "stderr",
          "output_type": "stream",
          "text": [
            "No model was supplied, defaulted to distilbert/distilbert-base-uncased-finetuned-sst-2-english and revision 714eb0f (https://huggingface.co/distilbert/distilbert-base-uncased-finetuned-sst-2-english).\n",
            "Using a pipeline without specifying a model name and revision in production is not recommended.\n"
          ]
        },
        {
          "name": "stdout",
          "output_type": "stream",
          "text": [
            "Loading NLP models...\n"
          ]
        },
        {
          "name": "stderr",
          "output_type": "stream",
          "text": [
            "Device set to use cpu\n",
            "Device set to use cpu\n",
            "Device set to use cpu\n"
          ]
        },
        {
          "name": "stdout",
          "output_type": "stream",
          "text": [
            "Models loaded successfully!\n",
            "\n",
            "🔹 Choose an NLP Task:\n",
            "1️⃣ Sentiment Analysis\n",
            "2️⃣ Text Summarization\n",
            "3️⃣ Question Answering\n",
            "4️⃣ Exit\n",
            "\n",
            "📝 Sentiment Analysis Result: {'label': 'POSITIVE', 'score': 0.9998801946640015}\n",
            "\n",
            "🔹 Choose an NLP Task:\n",
            "1️⃣ Sentiment Analysis\n",
            "2️⃣ Text Summarization\n",
            "3️⃣ Question Answering\n",
            "4️⃣ Exit\n",
            "\n",
            "📝 Sentiment Analysis Result: {'label': 'NEGATIVE', 'score': 0.9991856217384338}\n",
            "\n",
            "🔹 Choose an NLP Task:\n",
            "1️⃣ Sentiment Analysis\n",
            "2️⃣ Text Summarization\n",
            "3️⃣ Question Answering\n",
            "4️⃣ Exit\n"
          ]
        }
      ],
      "source": [
        "import torch\n",
        "from transformers import pipeline\n",
        "\n",
        "# Load Pretrained Models\n",
        "print(\"Loading NLP models...\")\n",
        "\n",
        "sentiment_model = pipeline(\"sentiment-analysis\")\n",
        "summarization_model = pipeline(\"summarization\", model=\"facebook/bart-large-cnn\")\n",
        "qa_model = pipeline(\"question-answering\", model=\"deepset/roberta-base-squad2\")\n",
        "\n",
        "print(\"Models loaded successfully!\")\n",
        "\n",
        "# Function: Sentiment Analysis\n",
        "def analyze_sentiment(text):\n",
        "    result = sentiment_model(text)\n",
        "    return result[0]  # Returns {label: 'POSITIVE', score: 0.99}\n",
        "\n",
        "# Function: Summarization\n",
        "def summarize_text(text):\n",
        "    summary = summarization_model(text, max_length=100, min_length=30, do_sample=False)\n",
        "    return summary[0]['summary_text']\n",
        "\n",
        "# Function: Question Answering\n",
        "def answer_question(context, question):\n",
        "    result = qa_model(question=question, context=context)\n",
        "    return result['answer']\n",
        "\n",
        "# Function: Display NLP Menu\n",
        "def display_menu():\n",
        "    print(\"\\n🔹 Choose an NLP Task:\")\n",
        "    print(\"1️⃣ Sentiment Analysis\")\n",
        "    print(\"2️⃣ Text Summarization\")\n",
        "    print(\"3️⃣ Question Answering\")\n",
        "    print(\"4️⃣ Exit\")\n",
        "\n",
        "# Main Interactive Loop\n",
        "def main():\n",
        "    while True:\n",
        "        display_menu()\n",
        "        choice = input(\"\\nEnter your choice (1-4): \").strip()\n",
        "\n",
        "        if choice == \"1\":\n",
        "            text = input(\"\\nEnter the text for Sentiment Analysis: \")\n",
        "            result = analyze_sentiment(text)\n",
        "            print(\"\\n📝 Sentiment Analysis Result:\", result)\n",
        "\n",
        "        elif choice == \"2\":\n",
        "            text = input(\"\\nEnter the text for Summarization: \")\n",
        "            result = summarize_text(text)\n",
        "            print(\"\\n📝 Summarized Text:\", result)\n",
        "\n",
        "        elif choice == \"3\":\n",
        "            context = input(\"\\nEnter the context (paragraph): \")\n",
        "            question = input(\"\\nEnter your question: \")\n",
        "            result = answer_question(context, question)\n",
        "            print(\"\\n📝 Answer:\", result)\n",
        "\n",
        "        elif choice == \"4\":\n",
        "            print(\"\\n🚀 Exiting NLP System. Have a great day!\")\n",
        "            break  # Exit the loop\n",
        "\n",
        "        else:\n",
        "            print(\"\\n❌ Invalid choice! Please select a valid option.\")\n",
        "\n",
        "# Run the program\n",
        "if __name__ == \"__main__\":\n",
        "    main()\n"
      ]
    }
  ],
  "metadata": {
    "colab": {
      "provenance": []
    },
    "kernelspec": {
      "display_name": "base",
      "language": "python",
      "name": "python3"
    },
    "language_info": {
      "codemirror_mode": {
        "name": "ipython",
        "version": 3
      },
      "file_extension": ".py",
      "mimetype": "text/x-python",
      "name": "python",
      "nbconvert_exporter": "python",
      "pygments_lexer": "ipython3",
      "version": "3.12.7"
    }
  },
  "nbformat": 4,
  "nbformat_minor": 0
}
